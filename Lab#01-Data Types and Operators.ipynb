{
  "nbformat": 4,
  "nbformat_minor": 0,
  "metadata": {
    "colab": {
      "provenance": [],
      "authorship_tag": "ABX9TyOorb67G687iO/sQUG8Yk6W",
      "include_colab_link": true
    },
    "kernelspec": {
      "name": "python3",
      "display_name": "Python 3"
    },
    "language_info": {
      "name": "python"
    }
  },
  "cells": [
    {
      "cell_type": "markdown",
      "metadata": {
        "id": "view-in-github",
        "colab_type": "text"
      },
      "source": [
        "<a href=\"https://colab.research.google.com/github/mbhutto2003/DS-A-Lab-/blob/main/Lab%2301-Data%20Types%20and%20Operators.ipynb\" target=\"_parent\"><img src=\"https://colab.research.google.com/assets/colab-badge.svg\" alt=\"Open In Colab\"/></a>"
      ]
    },
    {
      "cell_type": "code",
      "execution_count": 1,
      "metadata": {
        "colab": {
          "base_uri": "https://localhost:8080/"
        },
        "id": "ppA4h3qfOALx",
        "outputId": "76d3d260-e146-4400-dbfe-65b35d11f133"
      },
      "outputs": [
        {
          "output_type": "stream",
          "name": "stdout",
          "text": [
            "The value of variable1 is 42 and the value of variable2 is Hello, world!.\n"
          ]
        }
      ],
      "source": [
        "#Tasks#01\n",
        "\n",
        "# Write two lines of code below, each assigning a value to a variable\n",
        "# Now write a print statement using .format() to print out a sentence and the values of both of the variables\n",
        "\n",
        "# Assign values to variables\n",
        "variable1 = 42\n",
        "variable2 = \"Hello, world!\"\n",
        "\n",
        "# Print the sentence and the values of both variables\n",
        "print(\"The value of variable1 is {} and the value of variable2 is {}.\".format(variable1, variable2))\n",
        "\n"
      ]
    },
    {
      "cell_type": "code",
      "source": [
        "#Task#2\n",
        "\n",
        "# Browse the complete list of string methods at: https://docs.python.org/3/library/stdtypes.html#string-methods and try them out here\n",
        "\n",
        "text = \"hello, world!\"\n",
        "\n",
        "# str.capitalize(): Returns a copy of the string with the first character capitalized and the rest lowercased.\n",
        "print(text.capitalize())  # Output: \"Hello, world!\"\n",
        "\n",
        "# str.upper(): Returns a copy of the string with all characters in uppercase.\n",
        "print(text.upper())  # Output: \"HELLO, WORLD!\"\n",
        "\n",
        "# str.lower(): Returns a copy of the string with all characters in lowercase.\n",
        "print(text.lower())  # Output: \"hello, world!\"\n",
        "\n",
        "# str.strip(): Returns a copy of the string with leading and trailing whitespace removed.\n",
        "print(text.strip())  # Output: \"hello, world!\"\n",
        "\n",
        "# str.startswith(prefix): Returns True if the string starts with the specified prefix, otherwise False.\n",
        "print(text.startswith(\"Hello\"))  # Output: True\n",
        "print(text.startswith(\"World\"))  # Output: False\n",
        "\n",
        "\n",
        "\n",
        "\n",
        "\n"
      ],
      "metadata": {
        "colab": {
          "base_uri": "https://localhost:8080/"
        },
        "id": "srcoVc5AOcPX",
        "outputId": "49a85020-7887-4496-ea4a-cdbb0693a4f8"
      },
      "execution_count": 2,
      "outputs": [
        {
          "output_type": "stream",
          "name": "stdout",
          "text": [
            "Hello, world!\n",
            "HELLO, WORLD!\n",
            "hello, world!\n",
            "hello, world!\n",
            "False\n",
            "False\n"
          ]
        }
      ]
    },
    {
      "cell_type": "code",
      "source": [
        "#Task#03\n",
        "\n",
        "# List IndexingUse list indexing to determine how many days are in a particular month based on the integer variablemonth, and store that value in the integer variablenum_days. For example, if monthis 8,num_days should be set to 31, since the eighth month, August, has 31 days.Remember to account for zero-based indexing!\n",
        "\n",
        "# List to store the number of days in each month (index 0 will not be used)\n",
        "days_in_month = [0, 31, 28, 31, 30, 31, 30, 31, 31, 30, 31, 30, 31]\n",
        "\n",
        "# Get the number of the month from the user\n",
        "month = int(input(\"Enter the number of the month (1-12): \"))\n",
        "\n",
        "# Validate user input for month (between 1 and 12)\n",
        "if 1 <= month <= 12:\n",
        "    # Adjust month value for zero-based indexing\n",
        "    adjusted_month = month - 1\n",
        "\n",
        "    # Get the number of days for the given month\n",
        "    num_days = days_in_month[adjusted_month]\n",
        "\n",
        "    print(f\"Number of days in month {month} is {num_days}.\")\n",
        "else:\n",
        "    print(\"Invalid input. Please enter a number between 1 and 12.\")\n",
        "\n",
        "\n"
      ],
      "metadata": {
        "id": "mRTiC-x_OcND",
        "colab": {
          "base_uri": "https://localhost:8080/"
        },
        "outputId": "b94e7fd5-4f5d-4efa-964c-f7adacef9953"
      },
      "execution_count": 4,
      "outputs": [
        {
          "output_type": "stream",
          "name": "stdout",
          "text": [
            "Enter the number of the month (1-12): 5\n",
            "Number of days in month 5 is 30.\n"
          ]
        }
      ]
    },
    {
      "cell_type": "code",
      "source": [
        "#Task#04\n",
        "\n",
        "#Select the three most recent dates from this list using list slicing notation. Hint: negative indexes work in slices!\n",
        "\n",
        "eclipse_dates = ['June 21, 2001', 'December 4, 2002', 'November 23, 2003', 'March 29, 2006', 'August 1, 2008', 'July 22, 2009', 'July 11, 2010', 'November 13, 2012', 'March 20, 2015', 'March 9, 2016']\n",
        "\n",
        "# Select the three most recent dates using list slicing with negative indices\n",
        "recent_dates = eclipse_dates[-3:]\n",
        "\n",
        "# Print the three most recent dates\n",
        "print(recent_dates)\n"
      ],
      "metadata": {
        "id": "o1tWY0uAOcJD",
        "colab": {
          "base_uri": "https://localhost:8080/"
        },
        "outputId": "a9284f3d-ac4c-435a-eb4a-ccc82400921f"
      },
      "execution_count": 5,
      "outputs": [
        {
          "output_type": "stream",
          "name": "stdout",
          "text": [
            "['November 13, 2012', 'March 20, 2015', 'March 9, 2016']\n"
          ]
        }
      ]
    },
    {
      "cell_type": "code",
      "source": [
        "#Task#05\n",
        "\n",
        "#Store student’s data using nested dictionary.\n",
        "\n",
        "# Nested dictionary to store student data\n",
        "students = {\n",
        "    \"john_doe\": {\n",
        "        \"name\": \"John Doe\",\n",
        "        \"age\": 20,\n",
        "        \"gender\": \"Male\",\n",
        "        \"major\": \"Computer Science\",\n",
        "        \"grades\": {\n",
        "            \"math\": 85,\n",
        "            \"physics\": 78,\n",
        "            \"history\": 92\n",
        "        }\n",
        "    },\n",
        "    \"jane_smith\": {\n",
        "        \"name\": \"Jane Smith\",\n",
        "        \"age\": 19,\n",
        "        \"gender\": \"Female\",\n",
        "        \"major\": \"Biology\",\n",
        "        \"grades\": {\n",
        "            \"math\": 90,\n",
        "            \"biology\": 95,\n",
        "            \"chemistry\": 88\n",
        "        }\n",
        "    },\n",
        "    # Add more students here as needed\n",
        "}\n",
        "\n",
        "# Accessing and printing student data\n",
        "student_id = \"john_doe\"\n",
        "print(\"Student ID:\", student_id)\n",
        "print(\"Name:\", students[student_id][\"name\"])\n",
        "print(\"Age:\", students[student_id][\"age\"])\n",
        "print(\"Gender:\", students[student_id][\"gender\"])\n",
        "print(\"Major:\", students[student_id][\"major\"])\n",
        "print(\"Grades:\")\n",
        "for subject, grade in students[student_id][\"grades\"].items():\n",
        "    print(f\"{subject}: {grade}\")\n"
      ],
      "metadata": {
        "id": "ghz9sqeROcG3",
        "colab": {
          "base_uri": "https://localhost:8080/"
        },
        "outputId": "92c26368-0692-4587-bb73-f9acfc9ed544"
      },
      "execution_count": 6,
      "outputs": [
        {
          "output_type": "stream",
          "name": "stdout",
          "text": [
            "Student ID: john_doe\n",
            "Name: John Doe\n",
            "Age: 20\n",
            "Gender: Male\n",
            "Major: Computer Science\n",
            "Grades:\n",
            "math: 85\n",
            "physics: 78\n",
            "history: 92\n"
          ]
        }
      ]
    },
    {
      "cell_type": "code",
      "source": [],
      "metadata": {
        "id": "wyztWxQJOcFf"
      },
      "execution_count": null,
      "outputs": []
    },
    {
      "cell_type": "code",
      "source": [],
      "metadata": {
        "id": "SoL4ftDROcDr"
      },
      "execution_count": null,
      "outputs": []
    },
    {
      "cell_type": "code",
      "source": [],
      "metadata": {
        "id": "PJweKpqWOb9x"
      },
      "execution_count": null,
      "outputs": []
    },
    {
      "cell_type": "code",
      "source": [],
      "metadata": {
        "id": "LqvNMSjEOb64"
      },
      "execution_count": null,
      "outputs": []
    },
    {
      "cell_type": "code",
      "source": [],
      "metadata": {
        "id": "jFzlLBjIObyk"
      },
      "execution_count": null,
      "outputs": []
    },
    {
      "cell_type": "code",
      "source": [],
      "metadata": {
        "id": "iUMyWpz1ObZA"
      },
      "execution_count": null,
      "outputs": []
    }
  ]
}
